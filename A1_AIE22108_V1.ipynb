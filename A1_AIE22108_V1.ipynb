{
  "nbformat": 4,
  "nbformat_minor": 0,
  "metadata": {
    "colab": {
      "provenance": []
    },
    "kernelspec": {
      "name": "python3",
      "display_name": "Python 3"
    },
    "language_info": {
      "name": "python"
    }
  },
  "cells": [
    {
      "cell_type": "code",
      "execution_count": 3,
      "metadata": {
        "colab": {
          "base_uri": "https://localhost:8080/"
        },
        "id": "WDNxlEiKwJSs",
        "outputId": "6986c7de-84bf-435d-bb7c-375317c93b6a"
      },
      "outputs": [
        {
          "output_type": "stream",
          "name": "stdout",
          "text": [
            "Enter a word: Serendipity\n",
            "Number of vowels in the given word: 4\n",
            "Number of consonants in the given word: 7\n"
          ]
        }
      ],
      "source": [
        "#Q1:Write a program to count the number of vowels and consonants present in an input string.\n",
        "#Function definition\n",
        "def count_vowels_and_consonants(input):\n",
        "    vowels = \"aeiouAEIOU\"\n",
        "    consonants_count = 0\n",
        "    vowels_count = 0\n",
        "\n",
        "    for char in input:\n",
        "        if char.isalpha():\n",
        "            if char in vowels:\n",
        "                vowels_count += 1\n",
        "            else:\n",
        "                consonants_count += 1\n",
        "\n",
        "    return vowels_count, consonants_count\n",
        "def main():\n",
        "    # User input\n",
        "    user_input = input(\"Enter a word: \")\n",
        "\n",
        "    # Function call\n",
        "    vowels, consonants = count_vowels_and_consonants(user_input)\n",
        "\n",
        "    # Prints the results\n",
        "    print(f\"Number of vowels in the given word: {vowels}\")\n",
        "    print(f\"Number of consonants in the given word: {consonants}\")\n",
        "# Calls the main function\n",
        "if __name__==\"__main__\":\n",
        "  main()"
      ]
    },
    {
      "cell_type": "code",
      "source": [
        "#Q2:Write a program that accepts two matrices A and Bas input and returns their product AB.Check if A & B aremultipliable; if not, return error message.\n",
        "# Function definition\n",
        "def matrix_multiply(matrixA, matrixB):\n",
        "    rowsA, colsA = len(matrixA), len(matrixA[0])\n",
        "    rowsB, colsB = len(matrixB), len(matrixB[0])\n",
        "\n",
        "    # Checks if matrices are multipliable\n",
        "    if colsA != rowsB:\n",
        "        return \"Error: Matrices A and B are not multipliable.\"\n",
        "\n",
        "    # Initializes the result matrix with zeros\n",
        "    result_matrix = [[0 for _ in range(colsB)] for _ in range(rowsA)]\n",
        "\n",
        "    #Matrix multiplication\n",
        "    for i in range(rowsA):\n",
        "        for j in range(colsB):\n",
        "            for k in range(colsB):\n",
        "                result_matrix[i][j] += matrixA[i][k] * matrixB[k][j]\n",
        "\n",
        "    return result_matrix\n",
        "\n",
        "def user_input(matrix):\n",
        "    rows = int(input(f\"Enter the number of rows for Matrix {matrix}: \"))\n",
        "    cols = int(input(f\"Enter the number of columns for Matrix {matrix}: \"))\n",
        "\n",
        "    print(f\"Enter elements for Matrix {matrix}:\")\n",
        "    return [[int(input(f\"Enter element for Matrix {matrix}[{i}][{j}]: \")) for j in range(cols)] for i in range(rows)]\n",
        "\n",
        "def main():\n",
        "    #User input for matrix A\n",
        "    matrixA = user_input('A')\n",
        "\n",
        "    #User input for matrix B\n",
        "    matrixB = user_input('B')\n",
        "\n",
        "    # Matrix multiplication\n",
        "    result_matrix = matrix_multiply(matrixA, matrixB)\n",
        "\n",
        "    # Prints the result\n",
        "    print(\"Matrix Multiplication Result:\")\n",
        "    if isinstance(result_matrix, str):\n",
        "        print(result_matrix)\n",
        "    else:\n",
        "        for row in result_matrix:\n",
        "            print(row)\n",
        "# Calls the main function\n",
        "if __name__ == \"__main__\":\n",
        "    main()\n"
      ],
      "metadata": {
        "colab": {
          "base_uri": "https://localhost:8080/"
        },
        "id": "uXzJE5EuwYPb",
        "outputId": "6ecd5738-e83d-4f5f-e67a-6b885007ff03"
      },
      "execution_count": 4,
      "outputs": [
        {
          "output_type": "stream",
          "name": "stdout",
          "text": [
            "Enter the number of rows for Matrix A: 3\n",
            "Enter the number of columns for Matrix A: 3\n",
            "Enter elements for Matrix A:\n",
            "Enter element for Matrix A[0][0]: 1\n",
            "Enter element for Matrix A[0][1]: 2\n",
            "Enter element for Matrix A[0][2]: 3\n",
            "Enter element for Matrix A[1][0]: 4\n",
            "Enter element for Matrix A[1][1]: 5\n",
            "Enter element for Matrix A[1][2]: 6\n",
            "Enter element for Matrix A[2][0]: 7\n",
            "Enter element for Matrix A[2][1]: 8\n",
            "Enter element for Matrix A[2][2]: 9\n",
            "Enter the number of rows for Matrix B: 3\n",
            "Enter the number of columns for Matrix B: 2\n",
            "Enter elements for Matrix B:\n",
            "Enter element for Matrix B[0][0]: 2\n",
            "Enter element for Matrix B[0][1]: 1\n",
            "Enter element for Matrix B[1][0]: 1\n",
            "Enter element for Matrix B[1][1]: 4\n",
            "Enter element for Matrix B[2][0]: 3\n",
            "Enter element for Matrix B[2][1]: 4\n",
            "Matrix Multiplication Result:\n",
            "[4, 9]\n",
            "[13, 24]\n",
            "[22, 39]\n"
          ]
        }
      ]
    },
    {
      "cell_type": "code",
      "source": [
        "#Q3:Write a program to find the number of common elements between two lists. The lists contain integers\n",
        "# Function definition\n",
        "def count_common_elements(list1, list2):\n",
        "    common_elements = set(list1) & set(list2)\n",
        "    return len(common_elements)\n",
        "\n",
        "def main():\n",
        "    # User input for two lists\n",
        "    list1 = [int(ele) for ele in input(\"Enter elements for the first list : \").split()]\n",
        "    list2 = [int(ele) for ele in input(\"Enter elements for the second list : \").split()]\n",
        "\n",
        "    # Function call and printing the result\n",
        "    common_elements_count = count_common_elements(list1, list2)\n",
        "    print(f\"Number of common elements: {common_elements_count}\")\n",
        "# Calls the main function\n",
        "if __name__ == \"__main__\":\n",
        "    main()\n"
      ],
      "metadata": {
        "colab": {
          "base_uri": "https://localhost:8080/"
        },
        "id": "WEX0-R8H2RCy",
        "outputId": "578cd3e7-0fbf-41d6-d8ed-ad1e5618e490"
      },
      "execution_count": 7,
      "outputs": [
        {
          "output_type": "stream",
          "name": "stdout",
          "text": [
            "Enter elements for the first list : 1 2 3 4 5\n",
            "Enter elements for the second list : 2 1 4 8 5 \n",
            "Number of common elements: 4\n"
          ]
        }
      ]
    },
    {
      "cell_type": "code",
      "source": [
        "#Q4:Write a program that accepts a matrix as input and returns its transpose.\n",
        "# Function definition\n",
        "def transpose_matrix(input):\n",
        "    # Using list comprehension to create a transposed matrix\n",
        "    return [[input[j][i] for j in range(len(input))] for i in range(len(input[0]))]\n",
        "\n",
        "def main():\n",
        "    #User input for the rows and columns of the matrix\n",
        "    rows = int(input(\"Enter the number of rows for your matrix: \"))\n",
        "    cols = int(input(\"Enter the number of columns for your matrix: \"))\n",
        "\n",
        "    # Empty matrix to store user input\n",
        "    matrix_elements = []\n",
        "    for i in range(rows):\n",
        "        # Getting the user input for each element in the matrix\n",
        "        row_elements = [int(input(f\"Enter element for matrix[{i}][{j}]: \")) for j in range(cols)]\n",
        "        matrix_elements.append(row_elements)\n",
        "\n",
        "    # Calls the function to get the transpose of the matrix\n",
        "    transposed_matrix = transpose_matrix(matrix_elements)\n",
        "\n",
        "    # Prints the original matrix\n",
        "    print(\"Original Matrix:\")\n",
        "    for row in matrix_elements:\n",
        "        print(row)\n",
        "\n",
        "    # Prints the transposed matrix\n",
        "    print(\"\\nTransposed Matrix:\")\n",
        "    for row in transposed_matrix:\n",
        "        print(row)\n",
        "\n",
        "# Calls the main function\n",
        "if __name__ == \"__main__\":\n",
        "    main()\n"
      ],
      "metadata": {
        "colab": {
          "base_uri": "https://localhost:8080/"
        },
        "id": "3EFr8Y6y2TkT",
        "outputId": "98233ea2-b91b-44da-96d7-45ac76b326b4"
      },
      "execution_count": 8,
      "outputs": [
        {
          "output_type": "stream",
          "name": "stdout",
          "text": [
            "Enter the number of rows for your matrix: 2\n",
            "Enter the number of columns for your matrix: 2\n",
            "Enter element for matrix[0][0]: 1\n",
            "Enter element for matrix[0][1]: 1\n",
            "Enter element for matrix[1][0]: 8\n",
            "Enter element for matrix[1][1]: 2\n",
            "Original Matrix:\n",
            "[1, 1]\n",
            "[8, 2]\n",
            "\n",
            "Transposed Matrix:\n",
            "[1, 8]\n",
            "[1, 2]\n"
          ]
        }
      ]
    }
  ]
}